{
 "cells": [
  {
   "cell_type": "markdown",
   "id": "b98ff6ce",
   "metadata": {},
   "source": [
    "# Data Science Tools and Ecosystem"
   ]
  },
  {
   "cell_type": "markdown",
   "id": "051815ae",
   "metadata": {},
   "source": [
    "In this notebook, I summarize what I have learned about Data Science Tools and Ecosystem."
   ]
  },
  {
   "cell_type": "markdown",
   "id": "659b6d7e",
   "metadata": {},
   "source": [
    "Some of the popular languages that Data Scientists use are:\n",
    "* Python\n",
    "* R\n",
    "* SQL\n",
    "* Java\n",
    "* Julia\n",
    "* JavaScript\n",
    "* Swift"
   ]
  },
  {
   "cell_type": "markdown",
   "id": "d14407c9",
   "metadata": {},
   "source": [
    "Some of the commonly used libraries used by Data Scientists include:\n",
    "1. TensorFlow\n",
    "2. NumPy\n",
    "3. Pandas\n",
    "4. SciPy\n",
    "5. PyTorch"
   ]
  },
  {
   "cell_type": "markdown",
   "id": "437a428e",
   "metadata": {},
   "source": [
    "|Data Science Tools|\n",
    "|------------------|\n",
    "|Rstudio|\n",
    "|TensorFlow|\n",
    "|Apache Spark|"
   ]
  },
  {
   "cell_type": "markdown",
   "id": "5eaab973",
   "metadata": {},
   "source": [
    "### Below are a few examples of evaluating arithmetic expressions in Python\n",
    "* 4+2 = 3 - addition\n",
    "* 4-3 = 1 - subtraction\n",
    "* 4**2 = 4^2 = 16 - exponentiation\n",
    "* 4%3 = 1 - residue\n",
    "* 14//3 = 4 - incomplete share of the division"
   ]
  },
  {
   "cell_type": "code",
   "execution_count": 5,
   "id": "3c8ee5d4",
   "metadata": {},
   "outputs": [
    {
     "data": {
      "text/plain": [
       "17"
      ]
     },
     "execution_count": 5,
     "metadata": {},
     "output_type": "execute_result"
    }
   ],
   "source": [
    "(3*4)+5 #This a simple arithmetic expression to mutiply then add integers."
   ]
  },
  {
   "cell_type": "code",
   "execution_count": 10,
   "id": "8fa5438c",
   "metadata": {
    "scrolled": true
   },
   "outputs": [
    {
     "name": "stdout",
     "output_type": "stream",
     "text": [
      "3 hours\n"
     ]
    }
   ],
   "source": [
    "print(200//60,\"hours\") #his will convert 200 minutes to hours by diving by 60"
   ]
  },
  {
   "cell_type": "markdown",
   "id": "31e1a26a",
   "metadata": {},
   "source": [
    "_Objectives:_\n",
    "* Popular languages that Data Scientists\n",
    "* Commonly used libraries used by Data Scientists\n",
    "* Data Science Tools\n",
    "* Evaluating arithmetic expressions in Python"
   ]
  },
  {
   "cell_type": "markdown",
   "id": "14499a1c",
   "metadata": {},
   "source": [
    "## Author\n",
    "Mariia"
   ]
  },
  {
   "cell_type": "code",
   "execution_count": null,
   "id": "3a0e6e43",
   "metadata": {},
   "outputs": [],
   "source": []
  }
 ],
 "metadata": {
  "kernelspec": {
   "display_name": "Python 3 (ipykernel)",
   "language": "python",
   "name": "python3"
  },
  "language_info": {
   "codemirror_mode": {
    "name": "ipython",
    "version": 3
   },
   "file_extension": ".py",
   "mimetype": "text/x-python",
   "name": "python",
   "nbconvert_exporter": "python",
   "pygments_lexer": "ipython3",
   "version": "3.9.13"
  }
 },
 "nbformat": 4,
 "nbformat_minor": 5
}
